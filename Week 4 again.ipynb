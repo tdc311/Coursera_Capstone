{
    "cells": [
        {
            "metadata": {
                "collapsed": true
            },
            "cell_type": "markdown",
            "source": "Introduction/Business Problem\nA colleague is interested in opening a Chinese restaurant in Chicago and is trying to find an ideal location for this restaurant.  In order to determine what neighborhood might be a good location for his restaurant he wants to know what kinds of neighborhoods have successful Chinese restaurants and then find neighborhoods that are similar to those neighborhoods.  The ideal location for his Chinese restaurant will be in a similar neighborhood, but one that does not have any Chinese restaurants yet or only has a few relative to its size.\n\nData\nFirst we will use the Chicago neighborhood dataset from one of the previous classes to give us our list of Chicago neighborhoods.  Then we will use Foursquare data to figure out what kind of venues are in each neighborhood.  Then we will use K-means clustering to try to cluster the neighborhoods into similar clusters.  We will then see if there is a particular cluster of neighborhoods where more Chinese restaurants tend to be and then try to find similar neighborhoods in that cluster where there aren\u2019t Chinese restaurants (or at least not many).  \n"
        }
    ],
    "metadata": {
        "kernelspec": {
            "name": "python3",
            "display_name": "Python 3.7",
            "language": "python"
        },
        "language_info": {
            "name": "python",
            "version": "3.7.9",
            "mimetype": "text/x-python",
            "codemirror_mode": {
                "name": "ipython",
                "version": 3
            },
            "pygments_lexer": "ipython3",
            "nbconvert_exporter": "python",
            "file_extension": ".py"
        }
    },
    "nbformat": 4,
    "nbformat_minor": 1
}